{
  "nbformat": 4,
  "nbformat_minor": 0,
  "metadata": {
    "colab": {
      "provenance": []
    },
    "kernelspec": {
      "name": "python3",
      "display_name": "Python 3"
    },
    "language_info": {
      "name": "python"
    }
  },
  "cells": [
    {
      "cell_type": "markdown",
      "source": [
        "1. State the Hypotheses statement:\n",
        "\n",
        "Answer:\n",
        "If observed weekly operating costs are higher than operating cost model(W = $1,000 + $5X), reject the model.There is enough evidence to support the restaurant owners' claim that the weekly operating costs are higher than the model suggests.\n",
        "If observed weekly operating costs are less than or equal to operating cost model(W = $1,000 + $5X), accept the model.Then there is not enough evidence to support the restaurant owners' claim that the weekly operating costs are higher than the model suggests.\n"
      ],
      "metadata": {
        "id": "b_Og7APQxEWm"
      }
    },
    {
      "cell_type": "markdown",
      "source": [
        "2. Calculate the Test Statistic:\n",
        "\n",
        "\n",
        "ˉxˉ = sample mean weekly cost (Rs. 3,050)\n",
        "\n",
        "μ = theoretical mean weekly cost according to the cost model (W = $1,000 + $5X for X = 600 units)\n",
        "\n",
        "σ = 5*25 units\n",
        "\n",
        "n = sample size (25 restaurants)"
      ],
      "metadata": {
        "id": "0I2PBxG3w6P-"
      }
    },
    {
      "cell_type": "code",
      "execution_count": 1,
      "metadata": {
        "id": "xPBfwgYbjAwF"
      },
      "outputs": [],
      "source": [
        "from scipy import stats\n",
        "import numpy as np\n"
      ]
    },
    {
      "cell_type": "code",
      "source": [
        "sample_mean = 3050  # sample mean weekly cost\n",
        "theoretical_mean = 1000 + 5 * 600  # theoretical mean weekly cost according to the cost model\n",
        "sigma = 5 * 25  # standard deviation of units produced in a week\n",
        "n = 25  # sample size\n",
        "alpha = 0.05  # significance level"
      ],
      "metadata": {
        "id": "TIhFV-75__CR"
      },
      "execution_count": 2,
      "outputs": []
    },
    {
      "cell_type": "code",
      "source": [
        "t = (sample_mean - theoretical_mean) / (sigma / np.sqrt(n))\n",
        "t"
      ],
      "metadata": {
        "colab": {
          "base_uri": "https://localhost:8080/"
        },
        "id": "Y7N0oavxAGbv",
        "outputId": "a85ceedd-4a55-43d7-94d6-748828c1028a"
      },
      "execution_count": 4,
      "outputs": [
        {
          "output_type": "execute_result",
          "data": {
            "text/plain": [
              "-38.0"
            ]
          },
          "metadata": {},
          "execution_count": 4
        }
      ]
    },
    {
      "cell_type": "markdown",
      "source": [
        "3. Determine the Critical Value:\n",
        "\n",
        "Using the alpha level of 5% (α = 0.05), determine the critical value from the standard normal (Z) distribution table.\n"
      ],
      "metadata": {
        "id": "VxFNpVcPxSUt"
      }
    },
    {
      "cell_type": "code",
      "source": [
        "alpha=0.05\n",
        "critical_value = stats.norm.ppf(1 - alpha)\n",
        "critical_value"
      ],
      "metadata": {
        "colab": {
          "base_uri": "https://localhost:8080/"
        },
        "id": "osqE7QxTBrBq",
        "outputId": "82f80423-d182-4dfa-c9d8-bb6a9d89db68"
      },
      "execution_count": 5,
      "outputs": [
        {
          "output_type": "execute_result",
          "data": {
            "text/plain": [
              "1.6448536269514722"
            ]
          },
          "metadata": {},
          "execution_count": 5
        }
      ]
    },
    {
      "cell_type": "markdown",
      "source": [
        "4.  Make a Decision:\n",
        "\n",
        "Compare the test statistic with the critical value to decide whether to reject the null hypothesis.\n"
      ],
      "metadata": {
        "id": "uoLfO3quxWSX"
      }
    },
    {
      "cell_type": "code",
      "source": [
        "if t > critical_value:\n",
        "    print(\"Reject null hypothesis\")\n",
        "else:\n",
        "    print(\"Fail to reject null hypothesis\")"
      ],
      "metadata": {
        "colab": {
          "base_uri": "https://localhost:8080/"
        },
        "id": "n38lbsyiB1gV",
        "outputId": "4166ae36-88ee-4187-c06d-6a0b9630b79d"
      },
      "execution_count": 6,
      "outputs": [
        {
          "output_type": "stream",
          "name": "stdout",
          "text": [
            "Fail to reject null hypothesis\n"
          ]
        }
      ]
    },
    {
      "cell_type": "markdown",
      "source": [
        "5. Conclusion:\n",
        "\n",
        "Based on the decision in step 4, conclude whether there is strong evidence to support the restaurant owners' claim that the weekly operating costs are higher than the model suggests.\n"
      ],
      "metadata": {
        "id": "E6ym0AVwxeTN"
      }
    },
    {
      "cell_type": "markdown",
      "source": [
        "Answer:\n",
        " Since it is failed to reject the null hypthesis, there is not enough evidence to support the restaurant owners' claim that the weekly operating costs are higher than the model suggests. So accept the cost model.\n"
      ],
      "metadata": {
        "id": "Fo_vf6EzCVU1"
      }
    }
  ]
}