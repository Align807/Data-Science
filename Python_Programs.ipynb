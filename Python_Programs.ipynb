{
  "nbformat": 4,
  "nbformat_minor": 0,
  "metadata": {
    "colab": {
      "provenance": []
    },
    "kernelspec": {
      "name": "python3",
      "display_name": "Python 3"
    },
    "language_info": {
      "name": "python"
    }
  },
  "cells": [
    {
      "cell_type": "markdown",
      "source": [
        "Exercise 1: Prime Numbers\n",
        "Write a Python program that checks whether a given number is prime or not. A prime number is a natural number greater than 1 that has no positive divisors other than 1 and itself.\n"
      ],
      "metadata": {
        "id": "-NrKVsbjQIHs"
      }
    },
    {
      "cell_type": "code",
      "source": [
        "num= int(input(\"Enter a number \"))"
      ],
      "metadata": {
        "colab": {
          "base_uri": "https://localhost:8080/"
        },
        "id": "9xS5kHzzQOzA",
        "outputId": "e2c1aafa-04f4-401f-a732-0342649d77dd"
      },
      "execution_count": 7,
      "outputs": [
        {
          "name": "stdout",
          "output_type": "stream",
          "text": [
            "Enter a number 24\n"
          ]
        }
      ]
    },
    {
      "cell_type": "code",
      "source": [
        "num"
      ],
      "metadata": {
        "colab": {
          "base_uri": "https://localhost:8080/"
        },
        "id": "lLfV3s5OQYtO",
        "outputId": "d92ca31d-1c07-4172-c08d-428a6b7f27c0"
      },
      "execution_count": 8,
      "outputs": [
        {
          "output_type": "execute_result",
          "data": {
            "text/plain": [
              "24"
            ]
          },
          "metadata": {},
          "execution_count": 8
        }
      ]
    },
    {
      "cell_type": "code",
      "source": [
        "if num>1:\n",
        "  for i in range (2, (num//2)+1):\n",
        "      if (num%i == 0):\n",
        "         print(num,\" is not a prime number\" )\n",
        "         break\n",
        "  else:\n",
        "     print(num,\" is a prime number\" )\n",
        "\n",
        "else:\n",
        "  print(num,\" is not a prime number\" )\n"
      ],
      "metadata": {
        "colab": {
          "base_uri": "https://localhost:8080/"
        },
        "id": "e7G1HN-OQ2A6",
        "outputId": "8bdf49d2-0e7c-49c4-e81d-8410978375d4"
      },
      "execution_count": 14,
      "outputs": [
        {
          "output_type": "stream",
          "name": "stdout",
          "text": [
            "24  is not a prime number\n"
          ]
        }
      ]
    },
    {
      "cell_type": "markdown",
      "source": [
        "Exercise 2: Product of Random Numbers\n",
        "\n",
        "Develop a Python program that generates two random numbers and asks the user to enter the product of these numbers. The program should then check if the user's answer is correct and display an appropriate message.\n",
        "\n",
        "\n"
      ],
      "metadata": {
        "id": "xMiZpgS3T-7d"
      }
    },
    {
      "cell_type": "code",
      "source": [
        "import random"
      ],
      "metadata": {
        "id": "eZBGgDzSUAEs"
      },
      "execution_count": 15,
      "outputs": []
    },
    {
      "cell_type": "code",
      "source": [
        "num1 = random.randrange(0, 100, 1)\n",
        "print(\"first number is \",num1)\n",
        "num2 = random.randrange(0, 100, 1)\n",
        "print(\"second numer is \",num2)"
      ],
      "metadata": {
        "colab": {
          "base_uri": "https://localhost:8080/"
        },
        "id": "36vCTGrzU0iX",
        "outputId": "44408391-c724-45a5-cd7a-f95fadc1f263"
      },
      "execution_count": 23,
      "outputs": [
        {
          "output_type": "stream",
          "name": "stdout",
          "text": [
            "first number is  81\n",
            "second numer is  56\n"
          ]
        }
      ]
    },
    {
      "cell_type": "code",
      "source": [
        "prod= int(input(\"Enter product of these numbers \"))"
      ],
      "metadata": {
        "colab": {
          "base_uri": "https://localhost:8080/"
        },
        "id": "yvVFKPBOVvcW",
        "outputId": "d5f102a9-0e88-40ac-a4d2-3b24a9e9ba27"
      },
      "execution_count": 21,
      "outputs": [
        {
          "name": "stdout",
          "output_type": "stream",
          "text": [
            "Enter product of these numbers 1200\n"
          ]
        }
      ]
    },
    {
      "cell_type": "code",
      "source": [
        "if(prod == num1*num2):\n",
        "  print(\"Correct answer \")\n",
        "else:\n",
        "  print(\"Wrong answer, correct answer is: \",num1*num2)"
      ],
      "metadata": {
        "colab": {
          "base_uri": "https://localhost:8080/"
        },
        "id": "xn62r3CyVvY-",
        "outputId": "3d5a450e-f949-402e-d0f6-df7cd9c355bf"
      },
      "execution_count": 25,
      "outputs": [
        {
          "output_type": "stream",
          "name": "stdout",
          "text": [
            "Wrong answer, correct answer is:  4536\n"
          ]
        }
      ]
    },
    {
      "cell_type": "markdown",
      "source": [
        "Exercise 3: Squares of Even/Odd Numbers\n",
        "\n",
        "Create a Python script that prints the squares of all even or odd numbers within the range of 100 to 200. Choose either even or odd numbers and document your choice in the code.\n"
      ],
      "metadata": {
        "id": "FLh-HWx0We3R"
      }
    },
    {
      "cell_type": "code",
      "source": [
        "# print squares of all even numbers from 100 to 200\n",
        "for i in range(100, 201,2):\n",
        "  print(\"square of \",i,\" is \",i*i)"
      ],
      "metadata": {
        "colab": {
          "base_uri": "https://localhost:8080/"
        },
        "id": "MV6Oy6DMWh81",
        "outputId": "5e90dd9c-ce57-487a-950e-74e7d9df7aa1"
      },
      "execution_count": 27,
      "outputs": [
        {
          "output_type": "stream",
          "name": "stdout",
          "text": [
            "square of  100  is  10000\n",
            "square of  102  is  10404\n",
            "square of  104  is  10816\n",
            "square of  106  is  11236\n",
            "square of  108  is  11664\n",
            "square of  110  is  12100\n",
            "square of  112  is  12544\n",
            "square of  114  is  12996\n",
            "square of  116  is  13456\n",
            "square of  118  is  13924\n",
            "square of  120  is  14400\n",
            "square of  122  is  14884\n",
            "square of  124  is  15376\n",
            "square of  126  is  15876\n",
            "square of  128  is  16384\n",
            "square of  130  is  16900\n",
            "square of  132  is  17424\n",
            "square of  134  is  17956\n",
            "square of  136  is  18496\n",
            "square of  138  is  19044\n",
            "square of  140  is  19600\n",
            "square of  142  is  20164\n",
            "square of  144  is  20736\n",
            "square of  146  is  21316\n",
            "square of  148  is  21904\n",
            "square of  150  is  22500\n",
            "square of  152  is  23104\n",
            "square of  154  is  23716\n",
            "square of  156  is  24336\n",
            "square of  158  is  24964\n",
            "square of  160  is  25600\n",
            "square of  162  is  26244\n",
            "square of  164  is  26896\n",
            "square of  166  is  27556\n",
            "square of  168  is  28224\n",
            "square of  170  is  28900\n",
            "square of  172  is  29584\n",
            "square of  174  is  30276\n",
            "square of  176  is  30976\n",
            "square of  178  is  31684\n",
            "square of  180  is  32400\n",
            "square of  182  is  33124\n",
            "square of  184  is  33856\n",
            "square of  186  is  34596\n",
            "square of  188  is  35344\n",
            "square of  190  is  36100\n",
            "square of  192  is  36864\n",
            "square of  194  is  37636\n",
            "square of  196  is  38416\n",
            "square of  198  is  39204\n",
            "square of  200  is  40000\n"
          ]
        }
      ]
    },
    {
      "cell_type": "markdown",
      "source": [
        "Exercise 4: Word counter\n",
        "\n",
        "write a program to count the number of words in a given text.\n",
        "example:\n",
        "\n",
        "input_text = \"This is a sample text. This text will be used to demonstrate the word counter.\"\n",
        "\n",
        "Expected output:\n",
        "\n",
        "'This': 2\n",
        "\n",
        "'is': 1\n",
        "\n",
        "'a': 1\n",
        "\n",
        "'sample': 1\n",
        "\n",
        "'text.': 1\n"
      ],
      "metadata": {
        "id": "42AUVs0ZXVYD"
      }
    },
    {
      "cell_type": "code",
      "source": [
        "input_text= input(\"Enter a text \")\n"
      ],
      "metadata": {
        "colab": {
          "base_uri": "https://localhost:8080/",
          "height": 52
        },
        "id": "5YrfqOnaXb5j",
        "outputId": "6bb893bf-ef80-4594-86af-6458fdbc8f55"
      },
      "execution_count": 28,
      "outputs": [
        {
          "name": "stdout",
          "output_type": "stream",
          "text": [
            "Enter a texthai i am Align i am a data science enthusiast\n"
          ]
        },
        {
          "output_type": "execute_result",
          "data": {
            "text/plain": [
              "'hai i am Align i am a data science enthusiast'"
            ],
            "application/vnd.google.colaboratory.intrinsic+json": {
              "type": "string"
            }
          },
          "metadata": {},
          "execution_count": 28
        }
      ]
    },
    {
      "cell_type": "code",
      "source": [
        "count=0\n",
        "\n",
        "str = input_text.split(\" \")\n",
        "for a in range(0, len(str)):\n",
        "  word=str[a]\n",
        "  for i in range(a, len(str)):\n",
        "     if(word== str[i]):\n",
        "       count=count+1\n",
        "  print(\"\\'\",word,\"': \",count)\n",
        "  count=0\n",
        "\n"
      ],
      "metadata": {
        "colab": {
          "base_uri": "https://localhost:8080/"
        },
        "id": "XC3QDz3iYNZL",
        "outputId": "4036971e-9371-46d9-e3ab-c72481c8d5dc"
      },
      "execution_count": 37,
      "outputs": [
        {
          "output_type": "stream",
          "name": "stdout",
          "text": [
            "' hai ':  1\n",
            "' i ':  2\n",
            "' am ':  2\n",
            "' Align ':  1\n",
            "' i ':  1\n",
            "' am ':  1\n",
            "' a ':  1\n",
            "' data ':  1\n",
            "' science ':  1\n",
            "' enthusiast ':  1\n"
          ]
        }
      ]
    },
    {
      "cell_type": "markdown",
      "source": [
        "Exercise 5: Check for Palindrome\n",
        "\n",
        "Write a Python function called is_palindrome that takes a string as input and returns True if the string is a palindrome, and False otherwise. A palindrome is a word, phrase, number, or other sequence of characters that reads the same forward and backward, ignoring spaces, punctuation, and capitalization.\n",
        "\n",
        "Example:\n",
        "\n",
        "Input: \"racecar\"\n",
        "\n",
        "Expected Output: True\n"
      ],
      "metadata": {
        "id": "1CvoWvfqbKf3"
      }
    },
    {
      "cell_type": "code",
      "source": [
        "import string\n",
        "\n",
        "def _palindrome(str): #Palidrome function\n",
        "  return str == str[::-1] # comparing with reverse of string\n",
        "a=input(\"Enter a string\")\n",
        "a = a.translate(a.maketrans('', '', string.punctuation))\n",
        "print(a)\n",
        "print(_palindrome(a.lower()))"
      ],
      "metadata": {
        "colab": {
          "base_uri": "https://localhost:8080/"
        },
        "id": "96XcgotgbN1z",
        "outputId": "31f43b8c-f6d2-43f5-bc57-38d3e483a846"
      },
      "execution_count": 44,
      "outputs": [
        {
          "output_type": "stream",
          "name": "stdout",
          "text": [
            "Enter a string'malayalam ' malayalam\n",
            "malayalam  malayalam\n",
            "True\n"
          ]
        }
      ]
    },
    {
      "cell_type": "code",
      "source": [],
      "metadata": {
        "id": "oWTMrNaOdSrO"
      },
      "execution_count": null,
      "outputs": []
    }
  ]
}